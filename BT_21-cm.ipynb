{
 "cells": [
  {
   "cell_type": "markdown",
   "metadata": {},
   "source": [
    "# Brightness temperature of 21-cm line"
   ]
  },
  {
   "cell_type": "markdown",
   "metadata": {},
   "source": [
    "This code will calculate brightness temperature of 21 cm line in hydrogen in a given simulation. To do this, it needs:\n",
    "1. density distribution of neutral hydrogen ($n_H\\ [\\rm{cm}^{-3}]$)\n",
    "2. radial velocity distribution ($v_z\\ [\\rm{km/s}]$ in the code)\n",
    "3. temperature distribution ($T\\ [\\rm{K}]$)\n",
    "4. local standard of rest (LSR) velocity interval and desired resolution ($v_{\\rm{LSR}}\\ [\\rm{km/s}]$)\n",
    "    \n",
    "The calculation is done with the following equation $\left[^1\right]$:\n",
    "\n",
    "$$T_{\\rm{br}}(v_{\\rm{LSR}},x,y)=5.49\\cdot 10^{-14}\\ \\frac{\\rm{Kcm}^3}{\\rm{s}}\\  \\int n_{\\rm{H}}(x,y,z) \\frac{exp\\left[ -\\frac{\\left( v_{\\rm{LSR}}-v_z(x,y,z)\\right)^2}{2 b^2(x,y,z)}\\right]}{\\sqrt{2 \\pi}\\  b(x,y,z)} \\ \\text{d}z$$\n",
    "\n",
    "where  $$b(x,y,z)=\\sqrt{\\frac{kT(x,y,z)}{m}}$$\n",
    "\n",
    "$m$ is hydrogen atom mass, $k$ is Boltzmann constant and $z$ is the line of sight axis (in agreement with taking $v_z$ as radial velocity). Besides this, there is an option in the code for including the telescope beam effects and the spectral resolution where the beam is considered to be Gaussian. This means that the code will compute the following [<sup>2</sup>]:\n",
    "\n",
    "$$T_{\\rm{br}}^{\\rm{meas}}=B(x,y)*T_{\\rm{br}}(v_{\\rm{LSR}},x,y)$$\n",
    "\n",
    "where $b$ from the upper equation will now be [<sup>2</sup>]:\n",
    "\n",
    "$$b^{'}(x,y,z)=\\sqrt{\\frac{kT(x,y,z)}{m}+\\sigma_{\\rm{psf}}^2}$$\n",
    "\n",
    "where $\\sigma_{\\rm{psf}}$ is standard deviation of the point spread function connected to the spectral resolution. $B(x,y)$ is the spatial Gaussian beam which is convolved ($*$ sign) with the brightness temperature from the upper equation.\n",
    "\n",
    "The equation for brightness temperature is valid for an optically thin medium so the code will give meaningful results only if this approximation is satisfied. You have an option to check this in the last few cells of the code where column density is derived from both, brightness temperature using equation [<sup>1</sup>] \n",
    "\n",
    "$$N_{\\rm H}=1.823\\cdot 10^{13}\\ \\frac{\\rm s}{\\rm{Kcm}^3} \\int T_{\\rm{br}} \\ \\text{d}v_z$$\n",
    "\n",
    "and direct integration of the density using \n",
    "\n",
    "$$N^{'}_{\\rm H}=\\int n_{\\rm H} \\ \\text{d}z $$\n",
    "\n",
    "These two approaches are then compared.\n",
    "\n",
    "The code below contains cells which have a description paragraph above them.\n",
    "\n",
    "As it is already mentioned, this code by default takes the $z$ axis as the line of sight axis (third axis in your cube), but if needed, it can be changed. The needed changes will be described at the end of a paragraph for data collectiong and will be marked with 'Los axis change'.\n",
    "\n",
    "<br>\n",
    "\n",
    "[<sup>1</sup>] Spitzer, L., Physical Processes in the Interstellar Medium, Chapter 3.3 b.\n",
    "\n",
    "[<sup>2</sup>] Miville-Deschênes, M.-A., Martin, P. G., 2007, A&A 469, 189–199"
   ]
  },
  {
   "cell_type": "code",
   "execution_count": null,
   "metadata": {},
   "outputs": [],
   "source": [
    "from astropy.io import fits\n",
    "import numpy as np\n",
    "import scipy.integrate\n",
    "from scipy import signal\n",
    "import pylab as plt\n",
    "%matplotlib inline"
   ]
  },
  {
   "cell_type": "markdown",
   "metadata": {},
   "source": [
    "###### Data collecting\n",
    "\n",
    "In this cell you need to give some inputs mentioned before. Every line which requires change is noted with 'input'. Also pay attention to units given right after the code line.\n",
    "\n",
    "Los axis change: The lines noted with 'LOS' are defining the $z$-axis (line of sight axis) and the $x$ and $y$ axes. If you want to change the line of sight axis you must put the approptiate 'NAXIS_' and 'CDELT_' in the parenthesis."
   ]
  },
  {
   "cell_type": "code",
   "execution_count": null,
   "metadata": {},
   "outputs": [],
   "source": [
    "cube_data1=fits.open('cube_nH.fits')    #input: fits files which \n",
    "cube_data2=fits.open('cube_vz.fits')    # contain needed quantities\n",
    "cube_data3=fits.open('cube_T.fits')\n",
    "\n",
    "nH=cube_data1[0].data #cm^(-3)  [hydrogen density]  -input: extract the right data from the cubes.\n",
    "vz=cube_data2[0].data #km/s     [radial velocity]   -input\n",
    "T=cube_data3[0].data #K         [temperature]       -input\n",
    "\n",
    "nH_hdr=cube_data1[0].header    #input: extract the appropriate headers.\n",
    "vz_hdr=cube_data2[0].header    #input\n",
    "T_hdr=cube_data3[0].header     #input\n",
    "\n",
    "beam='True'                                    #input: 'True' if you want to include the telescope beam in the measurements\n",
    "beam_FWHM=3                                    #input: resolution in pixel space\n",
    "beam_std=beam_FWHM/(2*np.sqrt(2*np.log(2)))\n",
    "\n",
    "v_lsr_min=-50 #km/s    -input: minimum value of LSR velocity\n",
    "v_lsr_max=50 #km/s     -input: maximum value of LSR velocity\n",
    "v_lsr_npix=209 #km/s   -input: number of pixels in LSR velocity space\n",
    "\n",
    "vz_sp_res='True'                                            #input: 'True' if you want to include the spectral resolution\n",
    "vz_sp_res_FWHM=1.44 #km/s                                   -input: spectral resolution\n",
    "vz_sp_res_std=vz_sp_res_FWHM*10**5/(2*np.sqrt(2*np.log(2))) #cm/s\n",
    "\n",
    "verification='False'    #input: 'True' if you want to check the optically thin medium approximation\n",
    "\n",
    "x_crval=nH_hdr['CRVAL0']    #LOS\n",
    "y_crval=nH_hdr['CRVAL1']    #LOS\n",
    "z_crval=nH_hdr['CRVAL2']    #LOS\n",
    "\n",
    "x_crpix=nH_hdr['CRPIX0']    #LOS\n",
    "y_crpix=nH_hdr['CRPIX1']    #LOS\n",
    "z_crpix=nH_hdr['CRPIX2']    #LOS\n",
    "    \n",
    "x_npix=nH_hdr['NAXIS1']    #LOS\n",
    "y_npix=nH_hdr['NAXIS2']    #LOS\n",
    "z_npix=nH_hdr['NAXIS3']    #LOS\n",
    "\n",
    "x_del=nH_hdr['CDELT0']    #LOS\n",
    "y_del=nH_hdr['CDELT1']    #LOS\n",
    "z_del=nH_hdr['CDELT2']    #LOS\n",
    "\n",
    "x_size=x_npix*x_del #pc\n",
    "y_size=y_npix*y_del #pc\n",
    "z_size=z_npix*z_del #pc"
   ]
  },
  {
   "cell_type": "markdown",
   "metadata": {},
   "source": [
    "###### Making the numpy arrays for storing the output\n",
    "\n",
    "Here we make a $v_{\\rm LSR}$ interval and two numpy arrays. Intfun will be for storing the integrand, Tb will be the brightness temperature before convolution with the beam, and the Tb_meas will be the measured brightness temperature at the end."
   ]
  },
  {
   "cell_type": "code",
   "execution_count": null,
   "metadata": {},
   "outputs": [],
   "source": [
    "v_lsr=np.linspace(v_lsr_min, v_lsr_max, v_lsr_npix)\n",
    "\n",
    "Intfun=np.zeros((len(v_lsr), z_npix, y_npix, x_npix), dtype=float)\n",
    "Tb=np.zeros((len(v_lsr), y_npix, x_npix), dtype=float)\n",
    "Tb_meas=np.zeros((len(v_lsr), y_npix, x_npix), dtype=float)"
   ]
  },
  {
   "cell_type": "markdown",
   "metadata": {},
   "source": [
    "###### Calculation of the integrand\n",
    "\n",
    "Here we explicitly calculate the integrand using given data from the cube. To do this we choose the $cm$ unit for length and change everything appropriately."
   ]
  },
  {
   "cell_type": "code",
   "execution_count": null,
   "metadata": {},
   "outputs": [],
   "source": [
    "m=1.6736e-27 #kg    -Hydrogen mass\n",
    "k=1.38e-19 #cm^2 kg s^(-2) K^(-1)     -Boltzmann constant\n",
    "\n",
    "if vz_sp_res!='True':\n",
    "    vz_sp_res_std=0\n",
    "    \n",
    "b=np.sqrt((k/m)*T+vz_sp_res_std**2)\n",
    "\n",
    "vz_cm=vz*1e+5 #cm/s\n",
    "v_lsr_cm=v_lsr*1e+5 #cm/s\n",
    "\n",
    "for l in range(len(v_lsr)):\n",
    "    Intfun[l,:,:,:]=5.49e-14*nH*(1/(np.sqrt(2*np.pi)*b))*np.exp(-(v_lsr_cm[l]-vz_cm)**2/(2*b**2))"
   ]
  },
  {
   "cell_type": "markdown",
   "metadata": {},
   "source": [
    "###### Integration\n",
    "\n",
    "This cell computes the integration to get the brightness temperature. Los axis unit is also changed to $cm$ to be consistent with the integrand. "
   ]
  },
  {
   "cell_type": "code",
   "execution_count": null,
   "metadata": {},
   "outputs": [],
   "source": [
    "z_pc=np.linspace(0, z_size-z_del, z_npix) #pc\n",
    "z_cm=z_pc*3.086e+18 #cm\n",
    "\n",
    "Tb=scipy.integrate.simps(Intfun, z_cm, axis=1)"
   ]
  },
  {
   "cell_type": "markdown",
   "metadata": {},
   "source": [
    "###### Making a beam\n",
    "\n",
    "In the next cell we are making a Gaussian beam which will be convolved with the computed Tb spectra to get the brightness temperature that would be measured in a given telescope."
   ]
  },
  {
   "cell_type": "code",
   "execution_count": null,
   "metadata": {},
   "outputs": [],
   "source": [
    "if beam=='True':\n",
    "    \n",
    "    gauss=np.zeros((y_npix, x_npix), dtype=float)\n",
    "\n",
    "    for i in range(y_npix):\n",
    "        for j in range(x_npix):\n",
    "            gauss[i,j]=np.exp(-((i-y_npix/2)**2+(j-x_npix/2)**2)/(2*beam_std**2))"
   ]
  },
  {
   "cell_type": "markdown",
   "metadata": {},
   "source": [
    "###### Obtaining the measurements\n",
    "\n",
    "This cell computes the convolution of the Gauss function from the upper cell and the Tb spectra computed before."
   ]
  },
  {
   "cell_type": "code",
   "execution_count": null,
   "metadata": {},
   "outputs": [],
   "source": [
    "if beam=='True':\n",
    "    for i in range(len(v_lsr)):\n",
    "        Tb_meas[i,:,:]=signal.convolve2d(gauss, Tb[i,:,:], mode='same')\n",
    "else:\n",
    "    Tb_meas=Tb"
   ]
  },
  {
   "cell_type": "markdown",
   "metadata": {},
   "source": [
    "###### Plotting the Tb spectra\n",
    "\n",
    "Here we plot the given Tb spectra for desired pixel. You can choose the pixel position in the lines marked with 'changeable' (make sure this numbers are not greater than x_npix and y_npix), or if nothing is changed the cell will plot a spectra at the center of the picture."
   ]
  },
  {
   "cell_type": "code",
   "execution_count": null,
   "metadata": {},
   "outputs": [],
   "source": [
    "x_pix=int(x_npix/2)    #changeable\n",
    "y_pix=int(y_npix/2)    #changeable\n",
    "\n",
    "plt.figure(figsize=(10,6)) \n",
    "plt.plot(v_lsr, Tb_meas[:,y_pix,x_pix], color='blue')\n",
    "plt.xlabel('$v_{LSR}\\ [km/s]$')\n",
    "plt.ylabel('$T_b\\ [K]$')\n",
    "plt.show()"
   ]
  },
  {
   "cell_type": "markdown",
   "metadata": {},
   "source": [
    "###### Plotting the spatial dependence of Tb\n",
    "\n",
    "To plot the spatial dependence of Tb you need to choose one LSR velocity. The line for this is marked with 'changeable'. If you don't change this, the cell wil plot for the LSR velocity in the middle of your interval."
   ]
  },
  {
   "cell_type": "code",
   "execution_count": null,
   "metadata": {},
   "outputs": [],
   "source": [
    "v_lsr_pix=int(len(v_lsr)/2)    #changeable\n",
    "\n",
    "plt.figure(figsize=(10,6))\n",
    "plt.imshow(Tb_meas[v_lsr_pix,:,:], origin='lower', extent=(x_crval-x_crpix*x_del, x_crval+(x_npix-x_crpix)*x_del, \n",
    "                                                           y_crval-y_crpix*y_del, y_crval+(y_npix-y_crpix)*y_del))\n",
    "plt.xlabel('$x\\ [pc]$')\n",
    "plt.ylabel('$y\\ [pc]$')\n",
    "colb=plt.colorbar()\n",
    "colb.set_label('$T_b\\ [K]$')"
   ]
  },
  {
   "cell_type": "markdown",
   "metadata": {},
   "source": [
    "###### Saving the output\n",
    "\n",
    "This cell saves the calculated brightness temperature as fits file in the desired directory which you need to specify. You do this in the line marked with 'input'. Also check the header is properly made for the $x$ nad $y$ axes."
   ]
  },
  {
   "cell_type": "code",
   "execution_count": null,
   "metadata": {},
   "outputs": [],
   "source": [
    "hdr=fits.Header()\n",
    "\n",
    "hdr['CRVAL0']=nH_hdr['CRVAL0']\n",
    "hdr['CRPIX0']=nH_hdr['CRPIX0']\n",
    "hdr['CDELT0']=nH_hdr['CDELT0']\n",
    "hdr['CTYPE0']=nH_hdr['CTYPE0']\n",
    "hdr['CUNIT0']=nH_hdr['CUNIT0']\n",
    "\n",
    "hdr['CRVAL1']=nH_hdr['CRVAL1']\n",
    "hdr['CRPIX1']=nH_hdr['CRPIX1']\n",
    "hdr['CDELT1']=nH_hdr['CDELT1']\n",
    "hdr['CTYPE1']=nH_hdr['CTYPE1']\n",
    "hdr['CUNIT1']=nH_hdr['CUNIT1']\n",
    "\n",
    "hdr['CRVAL2']=(v_lsr_min+v_lsr_max)/2\n",
    "hdr['CRPIX2']=int(np.floor(len(v_lsr)/2))\n",
    "hdr['CDELT2']=v_lsr[1]-v_lsr[0]\n",
    "hdr['CTYPE2']='V_z'\n",
    "hdr['CUNIT2']='km/s'\n",
    "\n",
    "hdu=fits.PrimaryHDU(Tb_meas,hdr)\n",
    "hdul=fits.HDUList([hdu])\n",
    "hdul.writeto('Brightness_temperature.fits') #input"
   ]
  },
  {
   "cell_type": "markdown",
   "metadata": {},
   "source": [
    "## Verification of the optically thin medium condition\n",
    "\n",
    "###### Making the numpy arrays for storing the output\n",
    "\n",
    "This cell only makes the numpy arrays for saving the column densities from the two approaches described in the introduction."
   ]
  },
  {
   "cell_type": "code",
   "execution_count": null,
   "metadata": {},
   "outputs": [],
   "source": [
    "if verification=='True':\n",
    "    cd_tb=np.zeros((y_npix,x_npix), dtype=float)\n",
    "    cd=np.zeros((y_npix,x_npix), dtype=float)"
   ]
  },
  {
   "cell_type": "markdown",
   "metadata": {},
   "source": [
    "###### Column density from brightness temperature\n",
    "\n",
    "In this cell the integration of the brightness temperature over the velocity axis is computed in order to get the column density."
   ]
  },
  {
   "cell_type": "code",
   "execution_count": null,
   "metadata": {},
   "outputs": [],
   "source": [
    "if verification=='True':\n",
    "    intfun=1.823e+13*Tb\n",
    "    cd_tb=scipy.integrate.simps(intfun, v_lsr_cm, axis=0)"
   ]
  },
  {
   "cell_type": "markdown",
   "metadata": {},
   "source": [
    "###### Column density from density\n",
    "\n",
    "Cell computes the integration of density along the $z$-axis to obtain the appropriate column density."
   ]
  },
  {
   "cell_type": "code",
   "execution_count": null,
   "metadata": {},
   "outputs": [],
   "source": [
    "if verification=='True':\n",
    "    cd=scipy.integrate.simps(nH, z_cm, axis=0)"
   ]
  },
  {
   "cell_type": "markdown",
   "metadata": {},
   "source": [
    "###### Plotting the column densities from the two approaches\n",
    "\n",
    "This cell is plotting the column density from density over the column density from the brightness temperature and also the column density from density over the column density from density to see if there is a difference between these two quantities. If the plots are the same then your data is optically thin and the calculation of the brightness temperature is valid."
   ]
  },
  {
   "cell_type": "code",
   "execution_count": null,
   "metadata": {},
   "outputs": [],
   "source": [
    "if verification=='True':\n",
    "    plt.plot(cd.flatten(), cd_tb.flatten(), marker='.', color='blue', label='$N_H\\ [cm^{-2}]$')\n",
    "    plt.plot(cd.flatten(), cd.flatten(), color='orange', label='$N_H\\'\\ [cm^{-2}]$')\n",
    "    plt.xlabel('$N_H\\'\\ [cm^{-2}]$')\n",
    "    plt.legend()"
   ]
  }
 ],
 "metadata": {
  "kernelspec": {
   "display_name": "Python 3",
   "language": "python",
   "name": "python3"
  },
  "language_info": {
   "codemirror_mode": {
    "name": "ipython",
    "version": 3
   },
   "file_extension": ".py",
   "mimetype": "text/x-python",
   "name": "python",
   "nbconvert_exporter": "python",
   "pygments_lexer": "ipython3",
   "version": "3.8.3"
  }
 },
 "nbformat": 4,
 "nbformat_minor": 2
}
